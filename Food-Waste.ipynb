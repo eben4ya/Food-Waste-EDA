{
 "cells": [
  {
   "cell_type": "markdown",
   "metadata": {},
   "source": [
    "# **Food Waste Exploratory Data Analysis**"
   ]
  },
  {
   "cell_type": "markdown",
   "metadata": {},
   "source": [
    "### **Benaya Imanuela - 22/494790/TK/54313** \n",
    "\n",
    "### **Alur Kerja EDA :**\n",
    "EDA merupakan suatu metode yang digunakan untuk memahami struktur, karakteristik, dan pola dalam sebuah dataset yang melibatkan teknik statistik dan visualisasi data. Berikut adalah langkah - langkah EDA:\n",
    "1. Pahami penjelasan / deskripsi dari setiap feature\n",
    "\n",
    "2. Catat pertanyaan yang ini kita ketahui dari data\n",
    "- Tentang distribusi setiap feature\n",
    "- Karakteristik dan Korelasi antara masing-masing feature terhadap variabel dependend\n",
    "- Semua yang ingin doketahui ketika melihat data tersebut. Tulis saja apa yang terbesit di benak.\n",
    "\n",
    "3. Lakukan cleaning data\n",
    "- Menampilkan informasi tentang data --> info(), describe()\n",
    "- Cek apakah ada baris yang duplicated\n",
    "- Drop kolom non numerik yang 100% unik\n",
    "- Cek berapa baris yang null\n",
    "    - jika lebih dari 60% - 70% yang null, maka drop saja kolomnya\n",
    "    - jika kurang dari 15% yang null, maka drop saja barisnya\n",
    "    - jika diantara itu, bisa dilakukan pengolahan null value (imputation=n-nearist-neighbor, forward/ backward fill, atau mean & median untuk data numerik dan modus untuk data string)\n",
    "\n",
    "4. Lakukan feature engineering yang dapat menunjang EDA jika memungkinkan\n",
    "\n",
    "5. Menampilkan visualisasi dari setiap pertanyaan"
   ]
  },
  {
   "cell_type": "markdown",
   "metadata": {},
   "source": [
    "### **Informasi Dataset**"
   ]
  },
  {
   "cell_type": "markdown",
   "metadata": {},
   "source": [
    "1. **Country**: Nama negara. \n",
    "   - **Relevansi:** Penting untuk analisis berdasarkan negara.\n",
    "   \n",
    "2. **combined figures (kg/capita/year)**: Jumlah pemborosan makanan per kapita per tahun (gabungan).\n",
    "   - **Relevansi:** Sangat penting untuk analisis utama tentang pemborosan makanan.\n",
    "\n",
    "3. **Household estimate (kg/capita/year)**: Estimasi pemborosan makanan di rumah tangga per kapita per tahun.\n",
    "   - **Relevansi:** Penting untuk analisis pemborosan di rumah tangga per individu.\n",
    "\n",
    "4. **Household estimate (tonnes/year)**: Estimasi total pemborosan makanan di rumah tangga dalam ton per tahun.\n",
    "   - **Relevansi:** Penting untuk analisis pemborosan di rumah tangga untuk seluruh populasi.\n",
    "\n",
    "5. **Retail estimate (kg/capita/year)**: Estimasi pemborosan makanan di sektor ritel per kapita per tahun.\n",
    "   - **Relevansi:** Penting untuk analisis sektor ritel per individu.\n",
    "\n",
    "6. **Retail estimate (tonnes/year)**: Estimasi total pemborosan makanan di sektor ritel dalam ton per tahun.\n",
    "   - **Relevansi:** Penting untuk analisis sektor ritel untuk seluruh populasi.\n",
    "\n",
    "7. **Food service estimate (kg/capita/year)**: Estimasi pemborosan makanan di sektor layanan makanan per kapita per tahun.\n",
    "   - **Relevansi:** Penting untuk analisis sektor layanan makanan per individu.\n",
    "\n",
    "8. **Food service estimate (tonnes/year)**: Estimasi total pemborosan makanan di sektor layanan makanan dalam ton per tahun.\n",
    "   - **Relevansi:** Penting untuk analisis sektor layanan makanan untuk seluruh populasi.\n",
    "\n",
    "9. **Confidence in estimate**: Tingkat kepercayaan dalam estimasi (misal: Very Low Confidence, Low Confidence).\n",
    "   - **Relevansi:** Mungkin relevan untuk evaluasi kualitas data, tetapi bisa di-drop jika fokus pada kuantitatif.\n",
    "\n",
    "10. **M49 code**: Kode negara berdasarkan standar PBB.\n",
    "    - **Relevansi:** Bisa di-drop karena **Country** sudah mencakup informasi yang diperlukan.\n",
    "\n",
    "11. **Region**: Wilayah geografis negara.\n",
    "    - **Relevansi:** Penting untuk analisis geografis yang lebih luas.\n",
    "\n",
    "12. **Source**: Sumber data.\n",
    "    - **Relevansi:** Bisa di-drop jika tidak mempengaruhi analisis langsung."
   ]
  },
  {
   "cell_type": "markdown",
   "metadata": {},
   "source": [
    "### **Pertanyaan**"
   ]
  },
  {
   "cell_type": "markdown",
   "metadata": {},
   "source": [
    "1. Negara mana yang memiliki tingkat pemborosan makanan gabungan (combined figures) tertinggi dan terendah (kg/capita/year)?\n",
    "\n",
    "2. Bagaimana perbandingan pemborosan makanan antara rumah tangga (household), ritel (retail), dan layanan makanan (food service) di negara-negara dengan pemborosan tertinggi?\n",
    "\n",
    "3. Apakah ada korelasi antara wilayah geografis (Region) dengan tingkat pemborosan makanan (kg/capita/year)?\n",
    "\n",
    "4. Negara mana yang memiliki perbedaan terbesar antara pemborosan makanan di rumah tangga dan di layanan makanan?\n",
    "\n",
    "5. Bagaimana tren pemborosan makanan di sektor ritel dibandingkan dengan sektor lainnya?\n",
    "\n",
    "6. Apakah ada hubungan antara negara dengan populasi besar dan tingkat pemborosan makanan per kapita?\n",
    "\n",
    "7. Bagaimana hubungan antara jumlah total pemborosan makanan dalam ton per tahun dengan estimasi per kapita (kg/capita/year)?\n",
    "\n",
    "8. Wilayah geografis mana yang memiliki tingkat kepercayaan tertinggi (confidence in estimate) dalam estimasi pemborosan makanan?\n",
    "\n",
    "9. Bagaimana perbandingan pemborosan makanan di negara berkembang dibandingkan dengan negara maju?\n",
    "\n",
    "10. **Sektor apa yang menghasilkan pemborosan makanan terbesar di setiap wilayah geografis?**\n"
   ]
  },
  {
   "cell_type": "markdown",
   "metadata": {},
   "source": [
    "### **Lakukan Data Cleaning**"
   ]
  },
  {
   "cell_type": "markdown",
   "metadata": {},
   "source": [
    "#### **0. Import Package**"
   ]
  },
  {
   "cell_type": "code",
   "execution_count": 1,
   "metadata": {},
   "outputs": [],
   "source": [
    "import numpy as np\n",
    "import pandas as pd \n",
    "import datetime\n",
    "import seaborn as sns \n",
    "import matplotlib.pyplot as plt \n"
   ]
  },
  {
   "cell_type": "markdown",
   "metadata": {},
   "source": [
    "#### **1. Menampilkan Informasi Data**"
   ]
  },
  {
   "cell_type": "code",
   "execution_count": 2,
   "metadata": {},
   "outputs": [
    {
     "data": {
      "text/html": [
       "<div>\n",
       "<style scoped>\n",
       "    .dataframe tbody tr th:only-of-type {\n",
       "        vertical-align: middle;\n",
       "    }\n",
       "\n",
       "    .dataframe tbody tr th {\n",
       "        vertical-align: top;\n",
       "    }\n",
       "\n",
       "    .dataframe thead th {\n",
       "        text-align: right;\n",
       "    }\n",
       "</style>\n",
       "<table border=\"1\" class=\"dataframe\">\n",
       "  <thead>\n",
       "    <tr style=\"text-align: right;\">\n",
       "      <th></th>\n",
       "      <th>Country</th>\n",
       "      <th>combined figures (kg/capita/year)</th>\n",
       "      <th>Household estimate (kg/capita/year)</th>\n",
       "      <th>Household estimate (tonnes/year)</th>\n",
       "      <th>Retail estimate (kg/capita/year)</th>\n",
       "      <th>Retail estimate (tonnes/year)</th>\n",
       "      <th>Food service estimate (kg/capita/year)</th>\n",
       "      <th>Food service estimate (tonnes/year)</th>\n",
       "      <th>Confidence in estimate</th>\n",
       "      <th>M49 code</th>\n",
       "      <th>Region</th>\n",
       "      <th>Source</th>\n",
       "    </tr>\n",
       "  </thead>\n",
       "  <tbody>\n",
       "    <tr>\n",
       "      <th>0</th>\n",
       "      <td>Afghanistan</td>\n",
       "      <td>126</td>\n",
       "      <td>82</td>\n",
       "      <td>3109153</td>\n",
       "      <td>16</td>\n",
       "      <td>594982</td>\n",
       "      <td>28</td>\n",
       "      <td>1051783</td>\n",
       "      <td>Very Low Confidence</td>\n",
       "      <td>4</td>\n",
       "      <td>Southern Asia</td>\n",
       "      <td>https://www.unep.org/resources/report/unep-foo...</td>\n",
       "    </tr>\n",
       "    <tr>\n",
       "      <th>1</th>\n",
       "      <td>Albania</td>\n",
       "      <td>127</td>\n",
       "      <td>83</td>\n",
       "      <td>238492</td>\n",
       "      <td>16</td>\n",
       "      <td>45058</td>\n",
       "      <td>28</td>\n",
       "      <td>79651</td>\n",
       "      <td>Very Low Confidence</td>\n",
       "      <td>8</td>\n",
       "      <td>Southern Europe</td>\n",
       "      <td>https://www.unep.org/resources/report/unep-foo...</td>\n",
       "    </tr>\n",
       "    <tr>\n",
       "      <th>2</th>\n",
       "      <td>Algeria</td>\n",
       "      <td>135</td>\n",
       "      <td>91</td>\n",
       "      <td>3918529</td>\n",
       "      <td>16</td>\n",
       "      <td>673360</td>\n",
       "      <td>28</td>\n",
       "      <td>1190335</td>\n",
       "      <td>Very Low Confidence</td>\n",
       "      <td>12</td>\n",
       "      <td>Northern Africa</td>\n",
       "      <td>https://www.unep.org/resources/report/unep-foo...</td>\n",
       "    </tr>\n",
       "    <tr>\n",
       "      <th>3</th>\n",
       "      <td>Andorra</td>\n",
       "      <td>123</td>\n",
       "      <td>84</td>\n",
       "      <td>6497</td>\n",
       "      <td>13</td>\n",
       "      <td>988</td>\n",
       "      <td>26</td>\n",
       "      <td>1971</td>\n",
       "      <td>Low Confidence</td>\n",
       "      <td>20</td>\n",
       "      <td>Southern Europe</td>\n",
       "      <td>https://www.unep.org/resources/report/unep-foo...</td>\n",
       "    </tr>\n",
       "    <tr>\n",
       "      <th>4</th>\n",
       "      <td>Angola</td>\n",
       "      <td>144</td>\n",
       "      <td>100</td>\n",
       "      <td>3169523</td>\n",
       "      <td>16</td>\n",
       "      <td>497755</td>\n",
       "      <td>28</td>\n",
       "      <td>879908</td>\n",
       "      <td>Very Low Confidence</td>\n",
       "      <td>24</td>\n",
       "      <td>Sub-Saharan Africa</td>\n",
       "      <td>https://www.unep.org/resources/report/unep-foo...</td>\n",
       "    </tr>\n",
       "  </tbody>\n",
       "</table>\n",
       "</div>"
      ],
      "text/plain": [
       "       Country  combined figures (kg/capita/year)  \\\n",
       "0  Afghanistan                                126   \n",
       "1      Albania                                127   \n",
       "2      Algeria                                135   \n",
       "3      Andorra                                123   \n",
       "4       Angola                                144   \n",
       "\n",
       "   Household estimate (kg/capita/year)  Household estimate (tonnes/year)  \\\n",
       "0                                   82                           3109153   \n",
       "1                                   83                            238492   \n",
       "2                                   91                           3918529   \n",
       "3                                   84                              6497   \n",
       "4                                  100                           3169523   \n",
       "\n",
       "   Retail estimate (kg/capita/year)  Retail estimate (tonnes/year)  \\\n",
       "0                                16                         594982   \n",
       "1                                16                          45058   \n",
       "2                                16                         673360   \n",
       "3                                13                            988   \n",
       "4                                16                         497755   \n",
       "\n",
       "   Food service estimate (kg/capita/year)  \\\n",
       "0                                      28   \n",
       "1                                      28   \n",
       "2                                      28   \n",
       "3                                      26   \n",
       "4                                      28   \n",
       "\n",
       "   Food service estimate (tonnes/year) Confidence in estimate  M49 code  \\\n",
       "0                              1051783    Very Low Confidence         4   \n",
       "1                                79651    Very Low Confidence         8   \n",
       "2                              1190335    Very Low Confidence        12   \n",
       "3                                 1971         Low Confidence        20   \n",
       "4                               879908    Very Low Confidence        24   \n",
       "\n",
       "               Region                                             Source  \n",
       "0       Southern Asia  https://www.unep.org/resources/report/unep-foo...  \n",
       "1     Southern Europe  https://www.unep.org/resources/report/unep-foo...  \n",
       "2     Northern Africa  https://www.unep.org/resources/report/unep-foo...  \n",
       "3     Southern Europe  https://www.unep.org/resources/report/unep-foo...  \n",
       "4  Sub-Saharan Africa  https://www.unep.org/resources/report/unep-foo...  "
      ]
     },
     "execution_count": 2,
     "metadata": {},
     "output_type": "execute_result"
    }
   ],
   "source": [
    "df = pd.read_csv(\"./food-waste-dataset/Food Waste data and research - by country.csv\")\n",
    "df.head()"
   ]
  },
  {
   "cell_type": "code",
   "execution_count": 3,
   "metadata": {},
   "outputs": [
    {
     "name": "stdout",
     "output_type": "stream",
     "text": [
      "<class 'pandas.core.frame.DataFrame'>\n",
      "RangeIndex: 214 entries, 0 to 213\n",
      "Data columns (total 12 columns):\n",
      " #   Column                                  Non-Null Count  Dtype \n",
      "---  ------                                  --------------  ----- \n",
      " 0   Country                                 214 non-null    object\n",
      " 1   combined figures (kg/capita/year)       214 non-null    int64 \n",
      " 2   Household estimate (kg/capita/year)     214 non-null    int64 \n",
      " 3   Household estimate (tonnes/year)        214 non-null    int64 \n",
      " 4   Retail estimate (kg/capita/year)        214 non-null    int64 \n",
      " 5   Retail estimate (tonnes/year)           214 non-null    int64 \n",
      " 6   Food service estimate (kg/capita/year)  214 non-null    int64 \n",
      " 7   Food service estimate (tonnes/year)     214 non-null    int64 \n",
      " 8   Confidence in estimate                  214 non-null    object\n",
      " 9   M49 code                                214 non-null    int64 \n",
      " 10  Region                                  214 non-null    object\n",
      " 11  Source                                  214 non-null    object\n",
      "dtypes: int64(8), object(4)\n",
      "memory usage: 20.2+ KB\n"
     ]
    }
   ],
   "source": [
    "df.info()"
   ]
  },
  {
   "cell_type": "code",
   "execution_count": 4,
   "metadata": {},
   "outputs": [
    {
     "data": {
      "text/html": [
       "<div>\n",
       "<style scoped>\n",
       "    .dataframe tbody tr th:only-of-type {\n",
       "        vertical-align: middle;\n",
       "    }\n",
       "\n",
       "    .dataframe tbody tr th {\n",
       "        vertical-align: top;\n",
       "    }\n",
       "\n",
       "    .dataframe thead th {\n",
       "        text-align: right;\n",
       "    }\n",
       "</style>\n",
       "<table border=\"1\" class=\"dataframe\">\n",
       "  <thead>\n",
       "    <tr style=\"text-align: right;\">\n",
       "      <th></th>\n",
       "      <th>combined figures (kg/capita/year)</th>\n",
       "      <th>Household estimate (kg/capita/year)</th>\n",
       "      <th>Household estimate (tonnes/year)</th>\n",
       "      <th>Retail estimate (kg/capita/year)</th>\n",
       "      <th>Retail estimate (tonnes/year)</th>\n",
       "      <th>Food service estimate (kg/capita/year)</th>\n",
       "      <th>Food service estimate (tonnes/year)</th>\n",
       "      <th>M49 code</th>\n",
       "    </tr>\n",
       "  </thead>\n",
       "  <tbody>\n",
       "    <tr>\n",
       "      <th>count</th>\n",
       "      <td>214.000000</td>\n",
       "      <td>214.000000</td>\n",
       "      <td>2.140000e+02</td>\n",
       "      <td>214.000000</td>\n",
       "      <td>2.140000e+02</td>\n",
       "      <td>214.000000</td>\n",
       "      <td>2.140000e+02</td>\n",
       "      <td>214.000000</td>\n",
       "    </tr>\n",
       "    <tr>\n",
       "      <th>mean</th>\n",
       "      <td>126.794393</td>\n",
       "      <td>84.294393</td>\n",
       "      <td>2.658896e+06</td>\n",
       "      <td>15.116822</td>\n",
       "      <td>5.520454e+05</td>\n",
       "      <td>27.383178</td>\n",
       "      <td>1.138859e+06</td>\n",
       "      <td>433.971963</td>\n",
       "    </tr>\n",
       "    <tr>\n",
       "      <th>std</th>\n",
       "      <td>22.157879</td>\n",
       "      <td>18.313705</td>\n",
       "      <td>8.596906e+06</td>\n",
       "      <td>5.767840</td>\n",
       "      <td>2.195578e+06</td>\n",
       "      <td>6.508420</td>\n",
       "      <td>5.380459e+06</td>\n",
       "      <td>252.185786</td>\n",
       "    </tr>\n",
       "    <tr>\n",
       "      <th>min</th>\n",
       "      <td>61.000000</td>\n",
       "      <td>33.000000</td>\n",
       "      <td>8.500000e+02</td>\n",
       "      <td>3.000000</td>\n",
       "      <td>1.380000e+02</td>\n",
       "      <td>3.000000</td>\n",
       "      <td>2.760000e+02</td>\n",
       "      <td>4.000000</td>\n",
       "    </tr>\n",
       "    <tr>\n",
       "      <th>25%</th>\n",
       "      <td>115.000000</td>\n",
       "      <td>74.000000</td>\n",
       "      <td>6.831550e+04</td>\n",
       "      <td>13.000000</td>\n",
       "      <td>1.250925e+04</td>\n",
       "      <td>26.000000</td>\n",
       "      <td>2.239125e+04</td>\n",
       "      <td>219.000000</td>\n",
       "    </tr>\n",
       "    <tr>\n",
       "      <th>50%</th>\n",
       "      <td>123.000000</td>\n",
       "      <td>80.000000</td>\n",
       "      <td>5.205080e+05</td>\n",
       "      <td>16.000000</td>\n",
       "      <td>1.006500e+05</td>\n",
       "      <td>28.000000</td>\n",
       "      <td>1.884660e+05</td>\n",
       "      <td>432.000000</td>\n",
       "    </tr>\n",
       "    <tr>\n",
       "      <th>75%</th>\n",
       "      <td>137.750000</td>\n",
       "      <td>95.000000</td>\n",
       "      <td>2.111314e+06</td>\n",
       "      <td>16.000000</td>\n",
       "      <td>3.568158e+05</td>\n",
       "      <td>28.000000</td>\n",
       "      <td>6.307618e+05</td>\n",
       "      <td>645.250000</td>\n",
       "    </tr>\n",
       "    <tr>\n",
       "      <th>max</th>\n",
       "      <td>260.000000</td>\n",
       "      <td>189.000000</td>\n",
       "      <td>9.164621e+07</td>\n",
       "      <td>79.000000</td>\n",
       "      <td>2.242470e+07</td>\n",
       "      <td>90.000000</td>\n",
       "      <td>6.537774e+07</td>\n",
       "      <td>894.000000</td>\n",
       "    </tr>\n",
       "  </tbody>\n",
       "</table>\n",
       "</div>"
      ],
      "text/plain": [
       "       combined figures (kg/capita/year)  Household estimate (kg/capita/year)  \\\n",
       "count                         214.000000                           214.000000   \n",
       "mean                          126.794393                            84.294393   \n",
       "std                            22.157879                            18.313705   \n",
       "min                            61.000000                            33.000000   \n",
       "25%                           115.000000                            74.000000   \n",
       "50%                           123.000000                            80.000000   \n",
       "75%                           137.750000                            95.000000   \n",
       "max                           260.000000                           189.000000   \n",
       "\n",
       "       Household estimate (tonnes/year)  Retail estimate (kg/capita/year)  \\\n",
       "count                      2.140000e+02                        214.000000   \n",
       "mean                       2.658896e+06                         15.116822   \n",
       "std                        8.596906e+06                          5.767840   \n",
       "min                        8.500000e+02                          3.000000   \n",
       "25%                        6.831550e+04                         13.000000   \n",
       "50%                        5.205080e+05                         16.000000   \n",
       "75%                        2.111314e+06                         16.000000   \n",
       "max                        9.164621e+07                         79.000000   \n",
       "\n",
       "       Retail estimate (tonnes/year)  Food service estimate (kg/capita/year)  \\\n",
       "count                   2.140000e+02                              214.000000   \n",
       "mean                    5.520454e+05                               27.383178   \n",
       "std                     2.195578e+06                                6.508420   \n",
       "min                     1.380000e+02                                3.000000   \n",
       "25%                     1.250925e+04                               26.000000   \n",
       "50%                     1.006500e+05                               28.000000   \n",
       "75%                     3.568158e+05                               28.000000   \n",
       "max                     2.242470e+07                               90.000000   \n",
       "\n",
       "       Food service estimate (tonnes/year)    M49 code  \n",
       "count                         2.140000e+02  214.000000  \n",
       "mean                          1.138859e+06  433.971963  \n",
       "std                           5.380459e+06  252.185786  \n",
       "min                           2.760000e+02    4.000000  \n",
       "25%                           2.239125e+04  219.000000  \n",
       "50%                           1.884660e+05  432.000000  \n",
       "75%                           6.307618e+05  645.250000  \n",
       "max                           6.537774e+07  894.000000  "
      ]
     },
     "execution_count": 4,
     "metadata": {},
     "output_type": "execute_result"
    }
   ],
   "source": [
    "# df.sample(5) \n",
    "df.describe()"
   ]
  },
  {
   "cell_type": "code",
   "execution_count": 5,
   "metadata": {},
   "outputs": [
    {
     "data": {
      "text/plain": [
       "Sub-Saharan Africa                 48\n",
       "Latin America and the Caribbean    42\n",
       "Western Asia                       18\n",
       "Southern Europe                    15\n",
       "Northern Europe                    12\n",
       "South-eastern Asia                 11\n",
       "Eastern Europe                     10\n",
       "Southern Asia                       9\n",
       "Western Europe                      9\n",
       "Eastern Asia                        7\n",
       "Micronesia                          7\n",
       "Northern Africa                     6\n",
       "Melanesia                           5\n",
       "Central Asia                        5\n",
       "Northern America                    4\n",
       "Polynesia                           4\n",
       "Australia and New Zealand           2\n",
       "Name: Region, dtype: int64"
      ]
     },
     "execution_count": 5,
     "metadata": {},
     "output_type": "execute_result"
    }
   ],
   "source": [
    "df[\"Region\"].value_counts()\n",
    "# df[\"Country\"].value_counts()"
   ]
  },
  {
   "cell_type": "markdown",
   "metadata": {},
   "source": [
    "#### **2. Cek Apakah ada Baris yang duplikat**"
   ]
  },
  {
   "cell_type": "code",
   "execution_count": 6,
   "metadata": {},
   "outputs": [
    {
     "data": {
      "text/html": [
       "<div>\n",
       "<style scoped>\n",
       "    .dataframe tbody tr th:only-of-type {\n",
       "        vertical-align: middle;\n",
       "    }\n",
       "\n",
       "    .dataframe tbody tr th {\n",
       "        vertical-align: top;\n",
       "    }\n",
       "\n",
       "    .dataframe thead th {\n",
       "        text-align: right;\n",
       "    }\n",
       "</style>\n",
       "<table border=\"1\" class=\"dataframe\">\n",
       "  <thead>\n",
       "    <tr style=\"text-align: right;\">\n",
       "      <th></th>\n",
       "      <th>Country</th>\n",
       "      <th>combined figures (kg/capita/year)</th>\n",
       "      <th>Household estimate (kg/capita/year)</th>\n",
       "      <th>Household estimate (tonnes/year)</th>\n",
       "      <th>Retail estimate (kg/capita/year)</th>\n",
       "      <th>Retail estimate (tonnes/year)</th>\n",
       "      <th>Food service estimate (kg/capita/year)</th>\n",
       "      <th>Food service estimate (tonnes/year)</th>\n",
       "      <th>Confidence in estimate</th>\n",
       "      <th>M49 code</th>\n",
       "      <th>Region</th>\n",
       "      <th>Source</th>\n",
       "    </tr>\n",
       "  </thead>\n",
       "  <tbody>\n",
       "  </tbody>\n",
       "</table>\n",
       "</div>"
      ],
      "text/plain": [
       "Empty DataFrame\n",
       "Columns: [Country, combined figures (kg/capita/year), Household estimate (kg/capita/year), Household estimate (tonnes/year), Retail estimate (kg/capita/year), Retail estimate (tonnes/year), Food service estimate (kg/capita/year), Food service estimate (tonnes/year), Confidence in estimate, M49 code, Region, Source]\n",
       "Index: []"
      ]
     },
     "execution_count": 6,
     "metadata": {},
     "output_type": "execute_result"
    }
   ],
   "source": [
    "df[df.duplicated()] # menampilkan berapa baris yang duplikat"
   ]
  },
  {
   "cell_type": "markdown",
   "metadata": {},
   "source": [
    "Berdasarkan output di atas, dapat disimpulkan **tidak ada baris yang duplikat**."
   ]
  },
  {
   "cell_type": "markdown",
   "metadata": {},
   "source": [
    "#### **3. Drop Kolom yang 100% Unik dan Tidak Dibutuhkan untuk Analisis Mendalam**"
   ]
  },
  {
   "cell_type": "code",
   "execution_count": 7,
   "metadata": {},
   "outputs": [
    {
     "name": "stdout",
     "output_type": "stream",
     "text": [
      "Country : 214 labels\n",
      "combined figures (kg/capita/year) : 62 labels\n",
      "Household estimate (kg/capita/year) : 52 labels\n",
      "Household estimate (tonnes/year) : 214 labels\n",
      "Retail estimate (kg/capita/year) : 16 labels\n",
      "Retail estimate (tonnes/year) : 213 labels\n",
      "Food service estimate (kg/capita/year) : 19 labels\n",
      "Food service estimate (tonnes/year) : 213 labels\n",
      "Confidence in estimate : 4 labels\n",
      "M49 code : 214 labels\n",
      "Region : 17 labels\n",
      "Source : 214 labels\n"
     ]
    }
   ],
   "source": [
    "# Menampilkan jumlah nilai unik setiap kolom\n",
    "for col in df.columns:\n",
    "    print(f\"{col} : {len(df[col].unique())} labels\")"
   ]
  },
  {
   "cell_type": "markdown",
   "metadata": {},
   "source": [
    "Berdasarkan output di atas dan **informasi deskripsi dataset**. Diputuskan untuk men-drop kolom **M49 code** dan **Source** karena tidak memiliki korelasi untuk analisis lebih lanjut"
   ]
  },
  {
   "cell_type": "code",
   "execution_count": 10,
   "metadata": {},
   "outputs": [
    {
     "data": {
      "text/html": [
       "<div>\n",
       "<style scoped>\n",
       "    .dataframe tbody tr th:only-of-type {\n",
       "        vertical-align: middle;\n",
       "    }\n",
       "\n",
       "    .dataframe tbody tr th {\n",
       "        vertical-align: top;\n",
       "    }\n",
       "\n",
       "    .dataframe thead th {\n",
       "        text-align: right;\n",
       "    }\n",
       "</style>\n",
       "<table border=\"1\" class=\"dataframe\">\n",
       "  <thead>\n",
       "    <tr style=\"text-align: right;\">\n",
       "      <th></th>\n",
       "      <th>Country</th>\n",
       "      <th>combined figures (kg/capita/year)</th>\n",
       "      <th>Household estimate (kg/capita/year)</th>\n",
       "      <th>Household estimate (tonnes/year)</th>\n",
       "      <th>Retail estimate (kg/capita/year)</th>\n",
       "      <th>Retail estimate (tonnes/year)</th>\n",
       "      <th>Food service estimate (kg/capita/year)</th>\n",
       "      <th>Food service estimate (tonnes/year)</th>\n",
       "      <th>Confidence in estimate</th>\n",
       "      <th>Region</th>\n",
       "    </tr>\n",
       "  </thead>\n",
       "  <tbody>\n",
       "    <tr>\n",
       "      <th>0</th>\n",
       "      <td>Afghanistan</td>\n",
       "      <td>126</td>\n",
       "      <td>82</td>\n",
       "      <td>3109153</td>\n",
       "      <td>16</td>\n",
       "      <td>594982</td>\n",
       "      <td>28</td>\n",
       "      <td>1051783</td>\n",
       "      <td>Very Low Confidence</td>\n",
       "      <td>Southern Asia</td>\n",
       "    </tr>\n",
       "    <tr>\n",
       "      <th>1</th>\n",
       "      <td>Albania</td>\n",
       "      <td>127</td>\n",
       "      <td>83</td>\n",
       "      <td>238492</td>\n",
       "      <td>16</td>\n",
       "      <td>45058</td>\n",
       "      <td>28</td>\n",
       "      <td>79651</td>\n",
       "      <td>Very Low Confidence</td>\n",
       "      <td>Southern Europe</td>\n",
       "    </tr>\n",
       "    <tr>\n",
       "      <th>2</th>\n",
       "      <td>Algeria</td>\n",
       "      <td>135</td>\n",
       "      <td>91</td>\n",
       "      <td>3918529</td>\n",
       "      <td>16</td>\n",
       "      <td>673360</td>\n",
       "      <td>28</td>\n",
       "      <td>1190335</td>\n",
       "      <td>Very Low Confidence</td>\n",
       "      <td>Northern Africa</td>\n",
       "    </tr>\n",
       "    <tr>\n",
       "      <th>3</th>\n",
       "      <td>Andorra</td>\n",
       "      <td>123</td>\n",
       "      <td>84</td>\n",
       "      <td>6497</td>\n",
       "      <td>13</td>\n",
       "      <td>988</td>\n",
       "      <td>26</td>\n",
       "      <td>1971</td>\n",
       "      <td>Low Confidence</td>\n",
       "      <td>Southern Europe</td>\n",
       "    </tr>\n",
       "    <tr>\n",
       "      <th>4</th>\n",
       "      <td>Angola</td>\n",
       "      <td>144</td>\n",
       "      <td>100</td>\n",
       "      <td>3169523</td>\n",
       "      <td>16</td>\n",
       "      <td>497755</td>\n",
       "      <td>28</td>\n",
       "      <td>879908</td>\n",
       "      <td>Very Low Confidence</td>\n",
       "      <td>Sub-Saharan Africa</td>\n",
       "    </tr>\n",
       "  </tbody>\n",
       "</table>\n",
       "</div>"
      ],
      "text/plain": [
       "       Country  combined figures (kg/capita/year)  \\\n",
       "0  Afghanistan                                126   \n",
       "1      Albania                                127   \n",
       "2      Algeria                                135   \n",
       "3      Andorra                                123   \n",
       "4       Angola                                144   \n",
       "\n",
       "   Household estimate (kg/capita/year)  Household estimate (tonnes/year)  \\\n",
       "0                                   82                           3109153   \n",
       "1                                   83                            238492   \n",
       "2                                   91                           3918529   \n",
       "3                                   84                              6497   \n",
       "4                                  100                           3169523   \n",
       "\n",
       "   Retail estimate (kg/capita/year)  Retail estimate (tonnes/year)  \\\n",
       "0                                16                         594982   \n",
       "1                                16                          45058   \n",
       "2                                16                         673360   \n",
       "3                                13                            988   \n",
       "4                                16                         497755   \n",
       "\n",
       "   Food service estimate (kg/capita/year)  \\\n",
       "0                                      28   \n",
       "1                                      28   \n",
       "2                                      28   \n",
       "3                                      26   \n",
       "4                                      28   \n",
       "\n",
       "   Food service estimate (tonnes/year) Confidence in estimate  \\\n",
       "0                              1051783    Very Low Confidence   \n",
       "1                                79651    Very Low Confidence   \n",
       "2                              1190335    Very Low Confidence   \n",
       "3                                 1971         Low Confidence   \n",
       "4                               879908    Very Low Confidence   \n",
       "\n",
       "               Region  \n",
       "0       Southern Asia  \n",
       "1     Southern Europe  \n",
       "2     Northern Africa  \n",
       "3     Southern Europe  \n",
       "4  Sub-Saharan Africa  "
      ]
     },
     "execution_count": 10,
     "metadata": {},
     "output_type": "execute_result"
    }
   ],
   "source": [
    "# Jangan lupa copy df ke df 1 untuk trial & error\n",
    "df1 = df.copy()\n",
    "\n",
    "# drop kolom M49\n",
    "df1.drop([\"M49 code\", \"Source\"], axis=1, inplace=True)\n",
    "df1.head()"
   ]
  },
  {
   "cell_type": "markdown",
   "metadata": {},
   "source": [
    "#### **4. Cek Apakah ada Baris yang Kosong**"
   ]
  },
  {
   "cell_type": "code",
   "execution_count": 11,
   "metadata": {},
   "outputs": [
    {
     "data": {
      "text/plain": [
       "Country                                   0.0\n",
       "combined figures (kg/capita/year)         0.0\n",
       "Household estimate (kg/capita/year)       0.0\n",
       "Household estimate (tonnes/year)          0.0\n",
       "Retail estimate (kg/capita/year)          0.0\n",
       "Retail estimate (tonnes/year)             0.0\n",
       "Food service estimate (kg/capita/year)    0.0\n",
       "Food service estimate (tonnes/year)       0.0\n",
       "Confidence in estimate                    0.0\n",
       "Region                                    0.0\n",
       "dtype: float64"
      ]
     },
     "execution_count": 11,
     "metadata": {},
     "output_type": "execute_result"
    }
   ],
   "source": [
    "# Menampilkan jumlah nilai kosong tiap kolom dalam persen\n",
    "df1.isnull().sum()/len(df)*100\n"
   ]
  },
  {
   "cell_type": "markdown",
   "metadata": {},
   "source": [
    "Berdasarkan output di atas, dapat disimpulkan **tidak ada baris yang kosong**"
   ]
  },
  {
   "cell_type": "markdown",
   "metadata": {},
   "source": [
    "#### **5. Menyimpan data hasil cleaning**"
   ]
  },
  {
   "cell_type": "code",
   "execution_count": null,
   "metadata": {},
   "outputs": [],
   "source": [
    "# Menyimpan DataFrame df1 ke file CSV\n",
    "df1.to_csv('nama_file.csv', index=False)\n"
   ]
  },
  {
   "cell_type": "markdown",
   "metadata": {},
   "source": [
    "### **Menampilkan Visualisasi Dari Setiap Pertanyaan**"
   ]
  },
  {
   "cell_type": "markdown",
   "metadata": {},
   "source": [
    "#### **1. Negara mana yang memiliki tingkat pemborosan makanan gabungan (combined figures) tertinggi dan terendah (kg/capita/year)?**\n"
   ]
  },
  {
   "cell_type": "markdown",
   "metadata": {},
   "source": [
    "#### **2. Bagaimana perbandingan pemborosan makanan antara rumah tangga (household), ritel (retail), dan layanan makanan (food service) di negara-negara dengan pemborosan tertinggi?**\n",
    "\n"
   ]
  },
  {
   "cell_type": "markdown",
   "metadata": {},
   "source": [
    "#### **3. Apakah ada korelasi antara wilayah geografis (Region) dengan tingkat pemborosan makanan (kg/capita/year)?**\n",
    "\n",
    "\n"
   ]
  },
  {
   "cell_type": "markdown",
   "metadata": {},
   "source": [
    "#### **4. Negara mana yang memiliki perbedaan terbesar antara pemborosan makanan di rumah tangga dan di layanan makanan?**\n",
    "\n"
   ]
  },
  {
   "cell_type": "markdown",
   "metadata": {},
   "source": [
    "#### **5. Bagaimana tren pemborosan makanan di sektor ritel dibandingkan dengan sektor lainnya?**\n",
    "\n"
   ]
  },
  {
   "cell_type": "markdown",
   "metadata": {},
   "source": [
    "#### **6. Apakah ada hubungan antara negara dengan populasi besar dan tingkat pemborosan makanan per kapita?**\n",
    "\n"
   ]
  },
  {
   "cell_type": "markdown",
   "metadata": {},
   "source": [
    "#### **7. Bagaimana hubungan antara jumlah total pemborosan makanan dalam ton per tahun dengan estimasi per kapita (kg/capita/year)?**\n",
    "\n"
   ]
  },
  {
   "cell_type": "markdown",
   "metadata": {},
   "source": [
    "#### **8. Wilayah geografis mana yang memiliki tingkat kepercayaan tertinggi (confidence in estimate) dalam estimasi pemborosan makanan?**\n",
    "\n"
   ]
  },
  {
   "cell_type": "markdown",
   "metadata": {},
   "source": [
    "#### **9. Bagaimana perbandingan pemborosan makanan di negara berkembang dibandingkan dengan negara maju?**\n",
    "\n"
   ]
  },
  {
   "cell_type": "markdown",
   "metadata": {},
   "source": [
    "#### **10. Sektor apa yang menghasilkan pemborosan makanan terbesar di setiap wilayah geografis?**"
   ]
  }
 ],
 "metadata": {
  "kernelspec": {
   "display_name": "Python 3",
   "language": "python",
   "name": "python3"
  },
  "language_info": {
   "codemirror_mode": {
    "name": "ipython",
    "version": 3
   },
   "file_extension": ".py",
   "mimetype": "text/x-python",
   "name": "python",
   "nbconvert_exporter": "python",
   "pygments_lexer": "ipython3",
   "version": "3.10.12"
  }
 },
 "nbformat": 4,
 "nbformat_minor": 2
}
